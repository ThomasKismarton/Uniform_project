{
  "nbformat": 4,
  "nbformat_minor": 0,
  "metadata": {
    "colab": {
      "provenance": [],
      "authorship_tag": "ABX9TyPcm0KXu4xn3O8Miaq41UgR",
      "include_colab_link": true
    },
    "kernelspec": {
      "name": "python3",
      "display_name": "Python 3"
    },
    "language_info": {
      "name": "python"
    }
  },
  "cells": [
    {
      "cell_type": "markdown",
      "metadata": {
        "id": "view-in-github",
        "colab_type": "text"
      },
      "source": [
        "<a href=\"https://colab.research.google.com/github/ThomasKismarton/Uniform_project/blob/main/Uniform_Assignor.ipynb\" target=\"_parent\"><img src=\"https://colab.research.google.com/assets/colab-badge.svg\" alt=\"Open In Colab\"/></a>"
      ]
    },
    {
      "cell_type": "code",
      "execution_count": 2,
      "metadata": {
        "id": "ybsrAz3DjcmO"
      },
      "outputs": [],
      "source": [
        "import os\n",
        "import json\n",
        "import numpy as np\n",
        "import pandas as pd\n",
        "import unittest"
      ]
    },
    {
      "cell_type": "code",
      "source": [
        "# Reads in a DataFrame and converts sizes to decimals\n",
        "def size_conv(items):\n",
        "  size_dict = {\n",
        "    'YS': 1,\n",
        "    'YM': 2,\n",
        "    'YL': 3.5,\n",
        "    'YXL': 3.75,\n",
        "    'AXS': 3.5,\n",
        "    'AS': 4,\n",
        "    'AM': 5,\n",
        "    'AL': 6,\n",
        "    'AXL': 7,\n",
        "    'A2XL': 8\n",
        "  }\n",
        "  items = items.replace({'Size': size_dict})\n",
        "  return items"
      ],
      "metadata": {
        "id": "PEne7M43o0GJ"
      },
      "execution_count": 28,
      "outputs": []
    },
    {
      "cell_type": "code",
      "source": [
        "def jmatch(data, people):\n",
        "  tol = 0\n",
        "  while (tol <= 4):\n",
        "    for player in people.iterrows(): # For each player\n",
        "      size_diff = data[1] - player[1][1] # Find the difference between player size and uniform size\n",
        "      if (abs(size_diff) <= tol): # If close enough <<and not data[0] in final_nums.values()>> - removes dupes\n",
        "        final_nums[player[1][0]] = data[0] # Add it to the roster of numbers\n",
        "        final_nums['Mismatch Score'] += abs(size_diff) # Track overall mismatch score\n",
        "        return people.drop(player[0]) # Remove the player from the list of players needing jerseys\n",
        "    tol += 0.25\n",
        "  return people # Case to catch a uniform without a match"
      ],
      "metadata": {
        "id": "Xxrr5efwo_qB"
      },
      "execution_count": 29,
      "outputs": []
    },
    {
      "cell_type": "code",
      "source": [
        "# Begins matching uniforms to players in prio of least available sizes first.\n",
        "def smatch(sizelist, ps):\n",
        "  for size in sizelist: # For all of the sizes of uniforms available,\n",
        "    for uniform in sizedf[size].iterrows(): # For each uniform of that size,\n",
        "      unidata = uniform[1] # Grab the uniform size & number\n",
        "      ps = jmatch(unidata, ps) # Match the uniform to a player and remove from list if possible\n",
        "  return ps"
      ],
      "metadata": {
        "id": "dsLK-yTipCOL"
      },
      "execution_count": 30,
      "outputs": []
    },
    {
      "cell_type": "code",
      "source": [
        "def uniform_full_match(inv, roster):\n",
        "  final_nums.clear() # Removes previous team numbers, resets MMS\n",
        "  sizedf.clear() # Resets the size dataframe as well\n",
        "  final_nums['Mismatch Score'] = 0\n",
        "  players = assign(inv, roster)\n",
        "  return final_nums if players.empty else {'Mismatch Score': np.nan}"
      ],
      "metadata": {
        "id": "iYBgBsPgpGgq"
      },
      "execution_count": 32,
      "outputs": []
    },
    {
      "cell_type": "code",
      "source": [
        "def assign(inv_file, player_file):\n",
        "  inventory = size_conv(pd.read_csv(inv_file))\n",
        "  players = size_conv(pd.read_csv(player_file))\n",
        "\n",
        "  for size in inventory['Size'].unique():\n",
        "    sizedf[size] = inventory.loc[inventory['Size'] == size]\n",
        "  lp = sorted(sizedf, key = lambda x:sizedf[x].shape[0]) # Holds the list of all sizes sorted in ascending qty available\n",
        "\n",
        "  # As players are assigned uniforms, remove the uniforms from the inventory\n",
        "  # Once all the players have been assigned a uniform, then return the list of names -> numbers\n",
        "  players = smatch(lp, players)\n",
        "  return players"
      ],
      "metadata": {
        "id": "ZDAiDvnRpEIQ"
      },
      "execution_count": 34,
      "outputs": []
    },
    {
      "cell_type": "code",
      "source": [
        "def erasure_gen(arr):\n",
        "  erasure_arr = np.copy(arr)\n",
        "  row_vector = np.nansum(arr, axis=1)\n",
        "  col_vector = np.nansum(arr, axis=0)\n",
        "  for row in range(arr.shape[0]):\n",
        "    for col in range(arr.shape[1]):\n",
        "      erasure_arr[row][col] = np.nansum([row_vector[row], col_vector[col], 2*arr[row][col]]) * arr[row][col]\n",
        "  return erasure_arr"
      ],
      "metadata": {
        "id": "Otx9xTG9kcgU"
      },
      "execution_count": 15,
      "outputs": []
    },
    {
      "cell_type": "code",
      "source": [
        "def populate(inv, ros):\n",
        "  assignment_dict = {}\n",
        "  uni_dict = {}\n",
        "  for uni_bin in os.scandir(inv):\n",
        "    uni_dict[uni_bin.name] = {}\n",
        "    # Iterates through all teams\n",
        "    for team in os.scandir(rosters):\n",
        "      # Assigns uniform numbers to players, determines the mismatch score (MMS) per team for a specific bin\n",
        "      team_nums = uniform_full_match(uni_bin, team)\n",
        "      # Records the MMS indexed at (Team, Bin)\n",
        "      uni_dict[uni_bin.name][team.name] = team_nums['Mismatch Score']\n",
        "      assignment_dict[uni_bin.name + \" \" + team.name] = dict(team_nums)\n",
        "  uni_matrix = pd.DataFrame(uni_dict)\n",
        "  return uni_matrix, assignment_dict"
      ],
      "metadata": {
        "id": "dxDnf35wkeVz"
      },
      "execution_count": 53,
      "outputs": []
    },
    {
      "cell_type": "code",
      "source": [
        "def allocNums(mms, teamlist, binlist):\n",
        "  combolist = []\n",
        "  # Begin numpy work with matrices\n",
        "  np_matrix = mms.to_numpy()\n",
        "  erasures = erasure_gen(np_matrix)\n",
        "  while erasures.size > 0:\n",
        "    index = np.unravel_index(np.argmax(erasures), np.shape(erasures))\n",
        "    erasures = np.delete(np.delete(erasures, index[0], 0), index[1], 1)\n",
        "\n",
        "    # Select the team-bin combination with the largest erasure score, remove it from the list, print the numbers\n",
        "    team = teamlist.pop(index[0])\n",
        "    ubin = binlist.pop(index[1])\n",
        "    combolist.append(ubin + \" \" + team)\n",
        "  return combolist\n"
      ],
      "metadata": {
        "id": "BQm6E69ZlO6G"
      },
      "execution_count": 52,
      "outputs": []
    },
    {
      "cell_type": "code",
      "source": [
        "# These only ever run once, to initialize the variables.\n",
        "final_nums = {}\n",
        "sizedf = {}\n",
        "path = os.getcwd()\n",
        "inventory = path + '/Uniforms'\n",
        "rosters = path + '/Teams'"
      ],
      "metadata": {
        "id": "k0IN-MIYjmXV"
      },
      "execution_count": 37,
      "outputs": []
    },
    {
      "cell_type": "code",
      "source": [
        "# Generates a matrix of MMS for bin-team pairings\n",
        "u_matrix, ad = populate(inventory, rosters)\n",
        "# team_idx = list(u_matrix.index)\n",
        "# bin_idx = list(u_matrix.columns)\n",
        "toPrint = allocNums(u_matrix, list(u_matrix.index), list(u_matrix.columns))\n",
        "for entry in toPrint:\n",
        "  el = entry.split(' ')\n",
        "  print(\"Team name:\", el[1], \"| Bin Name:\", el[0])\n",
        "  print(json.dumps(ad[entry], indent = 2))"
      ],
      "metadata": {
        "colab": {
          "base_uri": "https://localhost:8080/"
        },
        "id": "0mY3_oBkk7In",
        "outputId": "65ea8460-b126-4c1b-a803-82512ab9c67a"
      },
      "execution_count": 57,
      "outputs": [
        {
          "output_type": "stream",
          "name": "stdout",
          "text": [
            "Team name: B06.csv | Bin Name: Bin1.csv\n",
            "{\n",
            "  \"Mismatch Score\": 14,\n",
            "  \"Ayden Rieke-Wey\": 25,\n",
            "  \"Carlos Abram\": 2,\n",
            "  \"Dalen Hamilton\": 4,\n",
            "  \"Dylan Chung\": 46,\n",
            "  \"Edward Brown\": 24,\n",
            "  \"Drew Clark-Bolt\": 8,\n",
            "  \"Jay Piper\": 11,\n",
            "  \"Kensei Sugitani\": 14,\n",
            "  \"Lunden Fenster\": 16,\n",
            "  \"Mason Duarte\": 17,\n",
            "  \"Lucas Hogben\": 3,\n",
            "  \"Wyatt Stevens\": 5,\n",
            "  \"Chase Larson\": 6,\n",
            "  \"Lukas Shriner\": 7,\n",
            "  \"Oscar Castillo\": 10,\n",
            "  \"Riley Cotton Lopez\": 12,\n",
            "  \"Thero Mitchell\": 13,\n",
            "  \"Uriel Villegas-Gallegos\": 15\n",
            "}\n"
          ]
        }
      ]
    }
  ]
}