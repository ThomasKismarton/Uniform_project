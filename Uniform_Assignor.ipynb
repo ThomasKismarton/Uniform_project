{
  "nbformat": 4,
  "nbformat_minor": 0,
  "metadata": {
    "colab": {
      "provenance": []
    },
    "kernelspec": {
      "name": "python3",
      "display_name": "Python 3"
    },
    "language_info": {
      "name": "python"
    }
  },
  "cells": [
    {
      "cell_type": "markdown",
      "source": [
        "# Hello!\n",
        "Thanks for taking the time to use this uniform assignment tool.\n",
        "\n",
        "There's a few of these informational blocks at the beginning of the notebook to help guide you, but the more detailed setup guide can be found here: [Click Me!](https://washingtonyouthsoccerorg-my.sharepoint.com/:p:/g/personal/thomask_washingtonyouthsoccer_org/EbvPZLljEJxAnjKTaPjoNfAB6srge8L8mweC7YJs2vYn_Q?e=PaorOX)\n",
        "\n",
        "Read that guide in its entirety before beginning to run any cells of code in this window.\n",
        "\n",
        "Below, you will find a lot of blocks of code, broken into little bits.\n",
        "\n",
        "If you run them all in order, and you've gotten all the files properly formatted, then this will spit out an excel spreadsheet detailing which uniform each player should have.\n",
        "\n",
        "\n",
        "\n"
      ],
      "metadata": {
        "id": "B_3StJ-lflIu"
      }
    },
    {
      "cell_type": "markdown",
      "source": [
        "# Preparatory Steps\n",
        "* Ensure that your files are formatted as either team files or uniform files\n",
        "* Double-check to make sure that you've saved your files as .csv files - the code has a hard time reading regular excel files.\n",
        "* Ensure that you've gotten your files loaded into the folder labeled 'content' on the side panel to the left of this message."
      ],
      "metadata": {
        "id": "eQUHpbd6hT6x"
      }
    },
    {
      "cell_type": "markdown",
      "source": [
        "# Instructions for running a code cell\n",
        "* Click on a cell to highlight it\n",
        "* Once highlighted, press 'Ctrl + Enter' to run the cell\n",
        "* Pressing 'Shift + Enter' instead will run the cell & automatically highlight the next cell\n",
        "* For this notebook, you should be able to press 'Shift + Enter', starting from the top cell, until all code cells have been run\n"
      ],
      "metadata": {
        "id": "xTY2ktNehTdh"
      }
    },
    {
      "cell_type": "markdown",
      "source": [
        "# Other Things\n",
        "\n",
        "Most of the code cells don't provide any kind of output. You can tell if a code cell was successfully executed if a tiny green checkmark appears near the upper-left corner of the cell after running it.\n",
        "\n",
        "If you encounter any issues, refer to the accompanying powerpoint slides. If the issue cannot be resolved, contact ThomasK@washingtonyouthsoccer.org"
      ],
      "metadata": {
        "id": "CQJ98bSAh7eh"
      }
    },
    {
      "cell_type": "code",
      "source": [
        "pip install openpyxl"
      ],
      "metadata": {
        "colab": {
          "base_uri": "https://localhost:8080/"
        },
        "id": "uR8jZanhrM8b",
        "outputId": "c42f7a87-248a-4f96-a37f-0d33e581ceee"
      },
      "execution_count": null,
      "outputs": [
        {
          "output_type": "stream",
          "name": "stdout",
          "text": [
            "Looking in indexes: https://pypi.org/simple, https://us-python.pkg.dev/colab-wheels/public/simple/\n",
            "Requirement already satisfied: openpyxl in /usr/local/lib/python3.9/dist-packages (3.0.10)\n",
            "Requirement already satisfied: et-xmlfile in /usr/local/lib/python3.9/dist-packages (from openpyxl) (1.1.0)\n"
          ]
        }
      ]
    },
    {
      "cell_type": "code",
      "execution_count": null,
      "metadata": {
        "id": "ybsrAz3DjcmO"
      },
      "outputs": [],
      "source": [
        "# Import required resources\n",
        "import os\n",
        "import json\n",
        "import numpy as np\n",
        "import pandas as pd\n",
        "import unittest\n",
        "import math"
      ]
    },
    {
      "cell_type": "code",
      "source": [
        "# Accepts a filepath to a directory\n",
        "# Scans through all files in the directory, returning only files\n",
        "def filescan(path):\n",
        "  files = []\n",
        "  for f in os.scandir(path):\n",
        "    if not f.is_dir():\n",
        "      files.append(f)\n",
        "  return files"
      ],
      "metadata": {
        "id": "NLv-Be79tSnQ"
      },
      "execution_count": null,
      "outputs": []
    },
    {
      "cell_type": "code",
      "source": [
        "# Reads in a DataFrame and converts sizes to decimal representations\n",
        "# Returns a new DataFrame\n",
        "def str_to_deci(items):\n",
        "  size_dict = {\n",
        "    'YS': 1.0,\n",
        "    'YM': 2.0,\n",
        "    'YL': 3.0,\n",
        "    'YXL': 3.75,\n",
        "    'AXS': 3.25,\n",
        "    'AS': 4.0,\n",
        "    'AM': 5.0,\n",
        "    'AL': 6.0,\n",
        "    'AXL': 7.0,\n",
        "    'A2XL': 8.0\n",
        "  }\n",
        "  items = items.replace({'Size': size_dict})\n",
        "  return items"
      ],
      "metadata": {
        "id": "PEne7M43o0GJ"
      },
      "execution_count": null,
      "outputs": []
    },
    {
      "cell_type": "code",
      "source": [
        "def deci_to_str(item):\n",
        "    size_dict = {\n",
        "    '1.0': 'YS',\n",
        "    '2.0': 'YM',\n",
        "    '3.0': 'YL',\n",
        "    '3.75': 'YXL',\n",
        "    '3.25': 'AXS',\n",
        "    '4.0': 'AS',\n",
        "    '5.0': 'AM',\n",
        "    '6.0': 'AL',\n",
        "    '7.0': 'AXL',\n",
        "    '8.0': 'A2XL'\n",
        "    }\n",
        "    return size_dict[str(float(item))]"
      ],
      "metadata": {
        "id": "aS6cVvEMEUpf"
      },
      "execution_count": null,
      "outputs": []
    },
    {
      "cell_type": "code",
      "source": [
        "def formdict(filepath, attr):\n",
        "  i_dict = {}\n",
        "  for bin in filescan(filepath):\n",
        "    content = str_to_deci(pd.read_csv(bin))\n",
        "    attribute = content[attr][0]\n",
        "    if attribute in i_dict:\n",
        "      i_dict[attribute] = pd.concat([i_dict[attribute], content])\n",
        "    else:\n",
        "      i_dict[attribute] = content\n",
        "  return i_dict"
      ],
      "metadata": {
        "id": "eATPse5VxUUa"
      },
      "execution_count": null,
      "outputs": []
    },
    {
      "cell_type": "code",
      "source": [
        "# MMS = mismatch score\n",
        "def mms(sdf, tdf):\n",
        "  teamdict = {}\n",
        "  team = []\n",
        "  unis = []\n",
        "  mismatch_score = 0\n",
        "  tolerance = 0\n",
        "  rdf = tdf.copy()\n",
        "  udf = sdf.copy()\n",
        "\n",
        "  while not rdf.empty and tolerance <= 3:\n",
        "    for uniform in udf.iterrows():\n",
        "      for player in rdf.iterrows():\n",
        "        diff = abs(uniform[1][1] - player[1][1])\n",
        "        if diff <= tolerance and not (player[1][0] in team or uniform[1][0] in unis):\n",
        "          mismatch_score += abs(diff)\n",
        "          team.append(player[1][0])\n",
        "          unis.append(uniform[1][0])\n",
        "          teamdict[player[1][0]] = (uniform[1][0], uniform[1][1], uniform[1][2])\n",
        "      rdf = rdf[~rdf['Name'].isin(team)]\n",
        "      team = []\n",
        "    udf = udf[~udf['Number'].isin(unis)]\n",
        "    tolerance += 0.25\n",
        "  if not rdf.empty:\n",
        "    mismatch_score = 999\n",
        "  return mismatch_score, teamdict"
      ],
      "metadata": {
        "id": "nAnkMgwS-WjS"
      },
      "execution_count": null,
      "outputs": []
    },
    {
      "cell_type": "code",
      "source": [
        "def qtyorder(sdf):\n",
        "  sizecounts = sdf.value_counts(subset='Size', sort=True, ascending=True)\n",
        "  limdf = sdf.copy().iloc[0:0]\n",
        "  for size in sizecounts.index:\n",
        "    tdf = sdf.loc[sdf['Size'] == size]\n",
        "    limdf = pd.concat([limdf, tdf])\n",
        "  return limdf"
      ],
      "metadata": {
        "id": "Xq-tY9DOGtNl"
      },
      "execution_count": null,
      "outputs": []
    },
    {
      "cell_type": "code",
      "source": [
        "def permute(inv, teamdict):\n",
        "  mismatches = pd.DataFrame(columns=[\"Team Mismatch Score\", \"Team\", \"Style\", \"Breakdown\"])\n",
        "  for style in inv:\n",
        "    styledf = inv[style]\n",
        "    limdf = qtyorder(styledf)\n",
        "    for team in teamdict:\n",
        "      teamdf = teamdict[team]\n",
        "      if limdf.shape[0] > teamdf.shape[0]:\n",
        "        mis, breakdown = mms(limdf, teamdf)\n",
        "        mismatches.loc[len(mismatches.index)] = {\"Team Mismatch Score\": mis, \"Team\": team, \"Style\": style, \"Breakdown\": breakdown}\n",
        "      else:\n",
        "        breakdown = {}\n",
        "        mismatches.loc[len(mismatches.index)] = {\"Team Mismatch Score\": 999, \"Team\": team, \"Style\": style, \"Breakdown\": breakdown}\n",
        "  return mismatches"
      ],
      "metadata": {
        "id": "F5KGtq6H1Fxd"
      },
      "execution_count": null,
      "outputs": []
    },
    {
      "cell_type": "code",
      "source": [
        "def claimUnis(style, p_dict):\n",
        "  for player in p_dict: # For every player in this dictionary\n",
        "    p_info = p_dict[player] # Grab the uniform size and number\n",
        "    style = style.query(\"Number != @p_info[0] or Size != @p_info[1]\")\n",
        "  return style"
      ],
      "metadata": {
        "id": "U8qBdxXQ-ujc"
      },
      "execution_count": null,
      "outputs": []
    },
    {
      "cell_type": "code",
      "source": [
        "def assignmentCycle(sd, td):\n",
        "  # Needs to be repeated until all teams are assigned uniforms\n",
        "  mismatches = permute(sd, td).reset_index()\n",
        "  chosen = mismatches.loc[mismatches['Team Mismatch Score'].idxmin()]\n",
        "  playerdict = chosen['Breakdown']\n",
        "  del td[chosen['Team']]\n",
        "  # Updates the dictionary of data for the chosen style, removing those uniforms from the pool\n",
        "  sd[chosen['Style']] = claimUnis(sd[chosen['Style']], playerdict)\n",
        "  return chosen"
      ],
      "metadata": {
        "id": "csT4wwcD11_n"
      },
      "execution_count": null,
      "outputs": []
    },
    {
      "cell_type": "code",
      "source": [
        "def writesheet(sheetpath, teamdata):\n",
        "  with pd.ExcelWriter(sheetpath, mode='w') as writer:\n",
        "    for team in teamdata:\n",
        "      data = pd.DataFrame(team)\n",
        "      for entrydict in data.loc['Breakdown']:\n",
        "        tdf = pd.DataFrame(entrydict).T\n",
        "        if not tdf.empty:\n",
        "          tdf[1] = tdf.iloc[:][1].map(lambda x: deci_to_str(x)).values\n",
        "          tdf.rename(columns={0: \"Uniform Number\", 1: 'Uniform Size', 2: 'Style'}, inplace=True)\n",
        "        tdf.to_excel(writer, sheet_name=team.loc['Team'])\n"
      ],
      "metadata": {
        "id": "iiEK9io388Xe"
      },
      "execution_count": null,
      "outputs": []
    },
    {
      "cell_type": "code",
      "source": [
        "# These only ever run once, to initialize the variables.\n",
        "final_nums = {}\n",
        "sizedf = {}\n",
        "path = os.getcwd()\n",
        "inventory = path + '/Uniforms'\n",
        "rosters = path + '/Teams'\n",
        "styledict = formdict(inventory, 'Style')\n",
        "teamdict = formdict(rosters, 'Team')\n",
        "final_teams = []"
      ],
      "metadata": {
        "id": "k0IN-MIYjmXV"
      },
      "execution_count": null,
      "outputs": []
    },
    {
      "cell_type": "markdown",
      "source": [
        "# Hi again!\n",
        "\n",
        "The below code cell takes a while to run, about 10-20 seconds per team. It will continually produce output to let you know that it's still running."
      ],
      "metadata": {
        "id": "emBaD9S1iV-i"
      }
    },
    {
      "cell_type": "code",
      "source": [
        "# Main method that calls all the others to form a final roster\n",
        "# This one takes a while - it will periodically print which cycle it's on. There should be 1 cycle per team.\n",
        "cycle = 1\n",
        "while bool(teamdict):\n",
        "  print(\"Cycle:\", cycle)\n",
        "  cycle += 1\n",
        "  final_teams.append(assignmentCycle(styledict, teamdict))\n",
        "  print('Mismatch Score:', final_teams[-1]['Team Mismatch Score'], final_teams[-1]['Team'])\n",
        "print('Done Running!')"
      ],
      "metadata": {
        "id": "pcl_lQvn4sTs",
        "colab": {
          "base_uri": "https://localhost:8080/"
        },
        "outputId": "4cff7415-1021-4534-e3f3-d16a4a80f073"
      },
      "execution_count": null,
      "outputs": [
        {
          "output_type": "stream",
          "name": "stdout",
          "text": [
            "Cycle: 1\n",
            "Mismatch Score: 0.0 Boys 2012 White\n",
            "Cycle: 2\n",
            "Mismatch Score: 0.0 Girls 2011 White\n",
            "Cycle: 3\n",
            "Mismatch Score: 0.0 Girls 2011 Green\n",
            "Cycle: 4\n",
            "Mismatch Score: 0.0 Boys 2011 Blue\n",
            "Cycle: 5\n",
            "Mismatch Score: 0.0 Boys 2012 Blue\n",
            "Cycle: 6\n",
            "Mismatch Score: 0.0 Boys 2006\n",
            "Cycle: 7\n",
            "Mismatch Score: 0.0 Girls 2006\n",
            "Cycle: 8\n",
            "Mismatch Score: 0.0 Girls 2008\n",
            "Cycle: 9\n",
            "Mismatch Score: 0.75 Girls 2010 White\n",
            "Cycle: 10\n",
            "Mismatch Score: 1.5 Girls 2010 Green\n",
            "Cycle: 11\n",
            "Mismatch Score: 2.25 Girls 2009\n",
            "Cycle: 12\n",
            "Mismatch Score: 4.25 Boys 2011 Green\n",
            "Cycle: 13\n",
            "Mismatch Score: 8.5 Boys 2010 Green\n",
            "Cycle: 14\n",
            "Mismatch Score: 20.25 Boys 2011 White\n",
            "Cycle: 15\n",
            "Mismatch Score: 999 Boys 2009\n",
            "Cycle: 16\n",
            "Mismatch Score: 999 Boys 2008\n",
            "Cycle: 17\n",
            "Mismatch Score: 999 Boys 2007\n",
            "Cycle: 18\n",
            "Mismatch Score: 999 Girls 2012 Blue\n",
            "Cycle: 19\n",
            "Mismatch Score: 999 Girls 2012 White\n",
            "Cycle: 20\n",
            "Mismatch Score: 999 Girls 2012 Green\n",
            "Cycle: 21\n",
            "Mismatch Score: 999 Girls 2007\n",
            "Cycle: 22\n",
            "Mismatch Score: 999 Boys 2012 Green\n",
            "Done Running!\n"
          ]
        }
      ]
    },
    {
      "cell_type": "code",
      "source": [
        "writesheet(path + '/Assignment.xlsx', final_teams)"
      ],
      "metadata": {
        "id": "zF_aJBaNLfkV"
      },
      "execution_count": null,
      "outputs": []
    },
    {
      "cell_type": "markdown",
      "source": [
        "# That's it!\n",
        "If you collapse & reopen the content folder, there should now be an excel document there titled Assignment.xlsx\n",
        "\n",
        "Download that file, open it, and it will contain all the uniform assignment information for all teams that could have been outfitted.\n",
        "\n",
        "Any empty tabs are the result of teams that could not be fitted with the current stock of uniforms - either because the fit was so bad (e.g. AXL -> AS), or because there were not enough uniforms of a single cohesive style to outfit the entire team (e.g. 14 uniforms of Primegreen style -/-> 18 player roster)"
      ],
      "metadata": {
        "id": "zdQjXDzfi8wD"
      }
    }
  ]
}